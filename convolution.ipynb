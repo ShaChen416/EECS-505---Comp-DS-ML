{
 "cells": [
  {
   "cell_type": "markdown",
   "metadata": {
    "deletable": false,
    "editable": false,
    "jbook": {
     "class": "TextCell",
     "current_ui_view": "student",
     "editable": true,
     "original_source": "<h1>Table of Contents<span class=\"tocSkip\"></span></h1>\n<div class=\"toc\"><ul class=\"toc-item\"><li><span><a href=\"#Problem-description\" data-toc-modified-id=\"Problem-description-1\"><span class=\"toc-item-num\">1&nbsp;&nbsp;</span>Problem description</a></span><ul class=\"toc-item\"><li><span><a href=\"#Programming-exercise\" data-toc-modified-id=\"Programming-exercise-1.1\"><span class=\"toc-item-num\">1.1&nbsp;&nbsp;</span>Programming exercise</a></span></li></ul></li></ul></div>",
     "readonly": true,
     "section_id": "section_0",
     "sources": {
      "student": "<h1>Table of Contents<span class=\"tocSkip\"></span></h1>\n<div class=\"toc\"><ul class=\"toc-item\"><li><span><a href=\"#Problem-description\" data-toc-modified-id=\"Problem-description-1\"><span class=\"toc-item-num\">1&nbsp;&nbsp;</span>Problem description</a></span><ul class=\"toc-item\"><li><span><a href=\"#Programming-exercise\" data-toc-modified-id=\"Programming-exercise-1.1\"><span class=\"toc-item-num\">1.1&nbsp;&nbsp;</span>Programming exercise</a></span></li></ul></li></ul></div>"
     }
    },
    "slideshow": {
     "slide_type": "slide"
    },
    "toc": true
   },
   "source": [
    "<h1>Table of Contents<span class=\"tocSkip\"></span></h1>\n",
    "<div class=\"toc\"><ul class=\"toc-item\"><li><span><a href=\"#Problem-description\" data-toc-modified-id=\"Problem-description-1\"><span class=\"toc-item-num\">1&nbsp;&nbsp;</span>Problem description</a></span><ul class=\"toc-item\"><li><span><a href=\"#Programming-exercise\" data-toc-modified-id=\"Programming-exercise-1.1\"><span class=\"toc-item-num\">1.1&nbsp;&nbsp;</span>Programming exercise</a></span></li></ul></li></ul></div>"
   ]
  },
  {
   "cell_type": "markdown",
   "metadata": {
    "deletable": false,
    "editable": false,
    "jbook": {
     "class": "TextCell",
     "current_ui_view": "student",
     "editable": true,
     "original_source": "# Problem description",
     "readonly": true,
     "section_id": "section_0",
     "sources": {
      "student": "# Problem description"
     }
    },
    "slideshow": {
     "slide_type": "slide"
    }
   },
   "source": [
    "# Problem description"
   ]
  },
  {
   "cell_type": "markdown",
   "metadata": {
    "deletable": false,
    "editable": false,
    "jbook": {
     "class": "TextCell",
     "current_ui_view": "student",
     "editable": true,
     "original_source": "Discrete time convolution (a DSP term) of an input signal $x[n]$ and a filter $h[n]$ is defined in textbooks as:\n$$\ny = h * x = x * h\n\\implies\ny[m]\n= \\sum_{k=-\\infty}^{\\infty} h[k] x[m-k]\n= \\sum_{n=-\\infty}^{\\infty} x[n] h[m-n]\n,$$\nwhere the \"$*$\" above denotes convolution, not ordinary multiplication.\n\nIn practice we often use finite-length signals and filters, and not all textbooks define this case clearly.\nThe convolution of an input signal $(x[0],\\ldots,x[N-1])$ with a finite impulse response (FIR) filter $(h[0], \\ldots, h[K-1])$ becomes:\n$$\ny[m]\n= \\sum_{k=0}^{\\min(K-1,m)} h[k] x[m-k]\n= \\sum_{n=0}^{\\min(N-1,m)} x[n] h[m-n]\n,\\quad\nm=0,\\ldots,M-1\n.$$\nThis is exactly the type of convolution used in \"convolutional neural networks\" that are a hot topic in machine learning.\n\nDetermine $M$, the length of the (possibly) non-zero part of $y$, in terms of $N$ and $K$.\nWe will use the notation $y,h,x$ to denote the finite vectors of length $M$, $K$, and $N$, respectively.\n\nConvolution is a linear operation, so we can express it as a matrix-vector operation of the form $y = H x$ where $H$ is a matrix that you must determine and implement in this problem.\nWith some recycling of notation, you must implement $H$ such that $y = h * x = H x$.\n\n**Caution:**\nDSP notation uses signals that start at $n=0$, whereas the first element of a vector in `Julia` (and `Matlab`) is indexed by 1.\nThis is something you must get used to handling properly. \n\n**Hint:** It may be helpful to think through carefully the most reasonable size of $H$ first. \nYou should not augment $x$, nor have any rows that are identically zero in $H$.\n\nWrite a function called `convolution` that takes as its input the vectors $h$ and $x$ and returns as output both the matrix $H$ and the column vector $y$ (the convolved signal, implemented without `conv`).\n\n**Hint:** Compare your answer with the builtin convolution function: `Julia`'s `conv` function. Here is an example.\n",
     "readonly": true,
     "section_id": "section_0",
     "sources": {
      "student": "Discrete time convolution (a DSP term) of an input signal $x[n]$ and a filter $h[n]$ is defined in textbooks as:\n$$\ny = h * x = x * h\n\\implies\ny[m]\n= \\sum_{k=-\\infty}^{\\infty} h[k] x[m-k]\n= \\sum_{n=-\\infty}^{\\infty} x[n] h[m-n]\n,$$\nwhere the \"$*$\" above denotes convolution, not ordinary multiplication.\n\nIn practice we often use finite-length signals and filters, and not all textbooks define this case clearly.\nThe convolution of an input signal $(x[0],\\ldots,x[N-1])$ with a finite impulse response (FIR) filter $(h[0], \\ldots, h[K-1])$ becomes:\n$$\ny[m]\n= \\sum_{k=0}^{\\min(K-1,m)} h[k] x[m-k]\n= \\sum_{n=0}^{\\min(N-1,m)} x[n] h[m-n]\n,\\quad\nm=0,\\ldots,M-1\n.$$\nThis is exactly the type of convolution used in \"convolutional neural networks\" that are a hot topic in machine learning.\n\nDetermine $M$, the length of the (possibly) non-zero part of $y$, in terms of $N$ and $K$.\nWe will use the notation $y,h,x$ to denote the finite vectors of length $M$, $K$, and $N$, respectively.\n\nConvolution is a linear operation, so we can express it as a matrix-vector operation of the form $y = H x$ where $H$ is a matrix that you must determine and implement in this problem.\nWith some recycling of notation, you must implement $H$ such that $y = h * x = H x$.\n\n**Caution:**\nDSP notation uses signals that start at $n=0$, whereas the first element of a vector in `Julia` (and `Matlab`) is indexed by 1.\nThis is something you must get used to handling properly. \n\n**Hint:** It may be helpful to think through carefully the most reasonable size of $H$ first. \nYou should not augment $x$, nor have any rows that are identically zero in $H$.\n\nWrite a function called `convolution` that takes as its input the vectors $h$ and $x$ and returns as output both the matrix $H$ and the column vector $y$ (the convolved signal, implemented without `conv`).\n\n**Hint:** Compare your answer with the builtin convolution function: `Julia`'s `conv` function. Here is an example.\n"
     }
    },
    "slideshow": {
     "slide_type": "slide"
    }
   },
   "source": [
    "Discrete time convolution (a DSP term) of an input signal $x[n]$ and a filter $h[n]$ is defined in textbooks as:\n",
    "$$\n",
    "y = h * x = x * h\n",
    "\\implies\n",
    "y[m]\n",
    "= \\sum_{k=-\\infty}^{\\infty} h[k] x[m-k]\n",
    "= \\sum_{n=-\\infty}^{\\infty} x[n] h[m-n]\n",
    ",$$\n",
    "where the \"$*$\" above denotes convolution, not ordinary multiplication.\n",
    "\n",
    "In practice we often use finite-length signals and filters, and not all textbooks define this case clearly.\n",
    "The convolution of an input signal $(x[0],\\ldots,x[N-1])$ with a finite impulse response (FIR) filter $(h[0], \\ldots, h[K-1])$ becomes:\n",
    "$$\n",
    "y[m]\n",
    "= \\sum_{k=0}^{\\min(K-1,m)} h[k] x[m-k]\n",
    "= \\sum_{n=0}^{\\min(N-1,m)} x[n] h[m-n]\n",
    ",\\quad\n",
    "m=0,\\ldots,M-1\n",
    ".$$\n",
    "This is exactly the type of convolution used in \"convolutional neural networks\" that are a hot topic in machine learning.\n",
    "\n",
    "Determine $M$, the length of the (possibly) non-zero part of $y$, in terms of $N$ and $K$.\n",
    "We will use the notation $y,h,x$ to denote the finite vectors of length $M$, $K$, and $N$, respectively.\n",
    "\n",
    "Convolution is a linear operation, so we can express it as a matrix-vector operation of the form $y = H x$ where $H$ is a matrix that you must determine and implement in this problem.\n",
    "With some recycling of notation, you must implement $H$ such that $y = h * x = H x$.\n",
    "\n",
    "**Caution:**\n",
    "DSP notation uses signals that start at $n=0$, whereas the first element of a vector in `Julia` (and `Matlab`) is indexed by 1.\n",
    "This is something you must get used to handling properly. \n",
    "\n",
    "**Hint:** It may be helpful to think through carefully the most reasonable size of $H$ first. \n",
    "You should not augment $x$, nor have any rows that are identically zero in $H$.\n",
    "\n",
    "Write a function called `convolution` that takes as its input the vectors $h$ and $x$ and returns as output both the matrix $H$ and the column vector $y$ (the convolved signal, implemented without `conv`).\n",
    "\n",
    "**Hint:** Compare your answer with the builtin convolution function: `Julia`'s `conv` function. Here is an example.\n"
   ]
  },
  {
   "cell_type": "code",
   "execution_count": 1,
   "metadata": {
    "deletable": false,
    "jbook": {
     "class": "CodeCell",
     "current_ui_view": "student",
     "editable": true,
     "original_source": "conv([1; 2],[3; 4; 5])",
     "section_id": "section_0",
     "sources": {
      "student": "import Pkg; Pkg.add(\"DSP\")\nusing DSP\nconv([1; 2],[3; 4; 5])"
     }
    },
    "slideshow": {
     "slide_type": "slide"
    }
   },
   "outputs": [
    {
     "name": "stdout",
     "output_type": "stream",
     "text": [
      "\u001b[32m\u001b[1m  Updating\u001b[22m\u001b[39m registry at `~/.julia/registries/General`\n",
      "\u001b[32m\u001b[1m  Updating\u001b[22m\u001b[39m git-repo `https://github.com/JuliaRegistries/General.git`\n",
      "\u001b[2K\u001b[?25h[1mFetching:\u001b[22m\u001b[39m [========================================>]  99.9 %0.0 %13.6 %>                             ]  27.3 %                  ]  54.5 %                ]  58.8 %=============================>           ]  72.4 %]  85.9 % [========================================>]  99.6 %\u001b[32m\u001b[1m Resolving\u001b[22m\u001b[39m package versions...\n",
      "\u001b[32m\u001b[1m Installed\u001b[22m\u001b[39m Combinatorics ───── v1.0.0\n",
      "\u001b[32m\u001b[1m Installed\u001b[22m\u001b[39m TimerOutputs ────── v0.5.3\n",
      "\u001b[32m\u001b[1m Installed\u001b[22m\u001b[39m PlotUtils ───────── v0.6.0\n",
      "\u001b[32m\u001b[1m Installed\u001b[22m\u001b[39m IterTools ───────── v1.3.0\n",
      "\u001b[32m\u001b[1m Installed\u001b[22m\u001b[39m HTTP ────────────── v0.8.8\n",
      "\u001b[32m\u001b[1m Installed\u001b[22m\u001b[39m NearestNeighbors ── v0.4.4\n",
      "\u001b[32m\u001b[1m Installed\u001b[22m\u001b[39m CategoricalArrays ─ v0.7.3\n",
      "\u001b[32m\u001b[1m Installed\u001b[22m\u001b[39m DSP ─────────────── v0.6.0\n",
      "\u001b[32m\u001b[1m Installed\u001b[22m\u001b[39m Parsers ─────────── v0.3.10\n",
      "\u001b[32m\u001b[1m Installed\u001b[22m\u001b[39m ArrayInterface ──── v2.0.0\n",
      "\u001b[32m\u001b[1m Installed\u001b[22m\u001b[39m NaNMath ─────────── v0.3.3\n",
      "\u001b[32m\u001b[1m Installed\u001b[22m\u001b[39m TimeZones ───────── v0.10.3\n",
      "\u001b[32m\u001b[1m Installed\u001b[22m\u001b[39m PlotThemes ──────── v1.0.0\n",
      "\u001b[32m\u001b[1m Installed\u001b[22m\u001b[39m DiffEqDiffTools ─── v1.5.0\n",
      "\u001b[32m\u001b[1m Installed\u001b[22m\u001b[39m DataStructures ──── v0.17.6\n",
      "\u001b[32m\u001b[1m Installed\u001b[22m\u001b[39m FileIO ──────────── v1.1.0\n",
      "\u001b[32m\u001b[1m Installed\u001b[22m\u001b[39m EzXML ───────────── v0.9.5\n",
      "\u001b[32m\u001b[1m Installed\u001b[22m\u001b[39m OffsetArrays ────── v0.11.2\n",
      "\u001b[32m\u001b[1m Installed\u001b[22m\u001b[39m Calculus ────────── v0.5.1\n",
      "\u001b[32m\u001b[1m  Updating\u001b[22m\u001b[39m `~/.julia/environments/v1.1/Project.toml`\n",
      " \u001b[90m [717857b8]\u001b[39m\u001b[92m + DSP v0.6.0\u001b[39m\n",
      "\u001b[32m\u001b[1m  Updating\u001b[22m\u001b[39m `~/.julia/environments/v1.1/Manifest.toml`\n",
      " \u001b[90m [4fba245c]\u001b[39m\u001b[93m ↑ ArrayInterface v1.2.1 ⇒ v2.0.0\u001b[39m\n",
      " \u001b[90m [49dc2e85]\u001b[39m\u001b[93m ↑ Calculus v0.5.0 ⇒ v0.5.1\u001b[39m\n",
      " \u001b[90m [324d7699]\u001b[39m\u001b[93m ↑ CategoricalArrays v0.7.1 ⇒ v0.7.3\u001b[39m\n",
      " \u001b[90m [861a8166]\u001b[39m\u001b[93m ↑ Combinatorics v0.7.0 ⇒ v1.0.0\u001b[39m\n",
      " \u001b[90m [717857b8]\u001b[39m\u001b[92m + DSP v0.6.0\u001b[39m\n",
      " \u001b[90m [864edb3b]\u001b[39m\u001b[93m ↑ DataStructures v0.17.5 ⇒ v0.17.6\u001b[39m\n",
      " \u001b[90m [01453d9d]\u001b[39m\u001b[93m ↑ DiffEqDiffTools v1.4.0 ⇒ v1.5.0\u001b[39m\n",
      " \u001b[90m [8f5d6c58]\u001b[39m\u001b[93m ↑ EzXML v0.9.4 ⇒ v0.9.5\u001b[39m\n",
      " \u001b[90m [5789e2e9]\u001b[39m\u001b[93m ↑ FileIO v1.0.7 ⇒ v1.1.0\u001b[39m\n",
      " \u001b[90m [cd3eb016]\u001b[39m\u001b[93m ↑ HTTP v0.8.7 ⇒ v0.8.8\u001b[39m\n",
      " \u001b[90m [c8e1da08]\u001b[39m\u001b[93m ↑ IterTools v1.2.0 ⇒ v1.3.0\u001b[39m\n",
      " \u001b[90m [77ba4419]\u001b[39m\u001b[93m ↑ NaNMath v0.3.2 ⇒ v0.3.3\u001b[39m\n",
      " \u001b[90m [b8a86587]\u001b[39m\u001b[93m ↑ NearestNeighbors v0.4.3 ⇒ v0.4.4\u001b[39m\n",
      " \u001b[90m [6fe1bfb0]\u001b[39m\u001b[93m ↑ OffsetArrays v0.11.1 ⇒ v0.11.2\u001b[39m\n",
      " \u001b[90m [69de0a69]\u001b[39m\u001b[93m ↑ Parsers v0.3.8 ⇒ v0.3.10\u001b[39m\n",
      " \u001b[90m [ccf2f8ad]\u001b[39m\u001b[93m ↑ PlotThemes v0.4.0 ⇒ v1.0.0\u001b[39m\n",
      " \u001b[90m [995b91a9]\u001b[39m\u001b[95m ↓ PlotUtils v0.6.1 ⇒ v0.6.0\u001b[39m\n",
      " \u001b[90m [f269a46b]\u001b[39m\u001b[93m ↑ TimeZones v0.10.2 ⇒ v0.10.3\u001b[39m\n",
      " \u001b[90m [a759f4b9]\u001b[39m\u001b[93m ↑ TimerOutputs v0.5.1 ⇒ v0.5.3\u001b[39m\n",
      "\u001b[32m\u001b[1m  Building\u001b[22m\u001b[39m EzXML ────→ `~/.julia/packages/EzXML/QtGgF/deps/build.log`\n",
      "\u001b[32m\u001b[1m  Building\u001b[22m\u001b[39m TimeZones → `~/.julia/packages/TimeZones/pjvlM/deps/build.log`\n"
     ]
    },
    {
     "name": "stderr",
     "output_type": "stream",
     "text": [
      "┌ Info: Precompiling DSP [717857b8-e6f2-59f4-9121-6e50c889abd2]\n",
      "└ @ Base loading.jl:1186\n"
     ]
    },
    {
     "data": {
      "text/plain": [
       "4-element Array{Int64,1}:\n",
       "  3\n",
       " 10\n",
       " 13\n",
       " 10"
      ]
     },
     "execution_count": 1,
     "metadata": {},
     "output_type": "execute_result"
    }
   ],
   "source": [
    "import Pkg; Pkg.add(\"DSP\")\n",
    "using DSP\n",
    "conv([1; 2],[3; 4; 5])"
   ]
  },
  {
   "cell_type": "code",
   "execution_count": 3,
   "metadata": {
    "deletable": false,
    "jbook": {
     "class": "CodeCell",
     "current_ui_view": "student",
     "section_id": "section_0",
     "sources": {
      "student": "conv([1; 2; 3],[4; 5; 6; 7])"
     }
    },
    "slideshow": {
     "slide_type": "slide"
    }
   },
   "outputs": [
    {
     "data": {
      "text/plain": [
       "6-element Array{Int64,1}:\n",
       "  4\n",
       " 13\n",
       " 28\n",
       " 34\n",
       " 32\n",
       " 21"
      ]
     },
     "execution_count": 3,
     "metadata": {},
     "output_type": "execute_result"
    }
   ],
   "source": [
    "conv([1; 2; 3],[4; 5; 6; 7])"
   ]
  },
  {
   "cell_type": "code",
   "execution_count": 5,
   "metadata": {
    "deletable": false,
    "jbook": {
     "class": "CodeCell",
     "current_ui_view": "student",
     "section_id": "section_0",
     "sources": {
      "student": "using SparseArrays, LinearAlgebra"
     }
    },
    "slideshow": {
     "slide_type": "slide"
    }
   },
   "outputs": [],
   "source": [
    "using SparseArrays, LinearAlgebra"
   ]
  },
  {
   "cell_type": "code",
   "execution_count": 7,
   "metadata": {
    "deletable": false,
    "jbook": {
     "class": "CodeCell",
     "current_ui_view": "student",
     "section_id": "section_0",
     "sources": {
      "student": "for i = 1:5\n    println(i)\nend"
     }
    },
    "slideshow": {
     "slide_type": "slide"
    }
   },
   "outputs": [
    {
     "name": "stdout",
     "output_type": "stream",
     "text": [
      "1\n",
      "2\n",
      "3\n",
      "4\n",
      "5\n"
     ]
    }
   ],
   "source": [
    "for i = 1:5\n",
    "    println(i)\n",
    "end"
   ]
  },
  {
   "cell_type": "markdown",
   "metadata": {
    "deletable": false,
    "editable": false,
    "jbook": {
     "class": "TextCell",
     "current_ui_view": "student",
     "editable": true,
     "original_source": "Using your function below you should get that\n```julia\n    \n    H,x = convolution(h,x)\n    @show H*x\n    @show conv(h[:],x[:]) # should be equal \n```",
     "readonly": true,
     "section_id": "section_0",
     "sources": {
      "student": "Using your function below you should get that\n```julia\n    \n    H,x = convolution(h,x)\n    @show H*x\n    @show conv(h[:],x[:]) # should be equal \n```"
     }
    },
    "slideshow": {
     "slide_type": "slide"
    }
   },
   "source": [
    "Using your function below you should get that\n",
    "```julia\n",
    "    \n",
    "    H,x = convolution(h,x)\n",
    "    @show H*x\n",
    "    @show conv(h[:],x[:]) # should be equal \n",
    "```"
   ]
  },
  {
   "cell_type": "markdown",
   "metadata": {
    "deletable": false,
    "editable": false,
    "jbook": {
     "class": "TextCell",
     "current_ui_view": "student",
     "editable": true,
     "original_source": "##  Programming exercise",
     "readonly": true,
     "section_id": "section_0",
     "sources": {
      "student": "##  Programming exercise"
     }
    },
    "slideshow": {
     "slide_type": "slide"
    }
   },
   "source": [
    "##  Programming exercise"
   ]
  },
  {
   "cell_type": "code",
   "execution_count": 8,
   "metadata": {
    "deletable": false,
    "jbook": {
     "class": "AGCell",
     "current_ui_view": "student",
     "editable": true,
     "exercise_id": "convolution",
     "original_source": "function convolution(h, x)\n#\n# Syntax:       H, y = convolution(h, x)\n#\n# Inputs:       h is a vector of length K\n#\n#               x is a vector of length N\n#\n# Outputs:      H is the (N + K - 1) x n convolution matrix defined by h\n#\n#               y is the vector of length (N + K - 1) containing the discrete\n#               convolution of h and x, but *not* computed via conv() calls.\n#\n# Description:  Computes the discrete convolution of the input vectors via\n#               matrix multiplication and returns both the matrix and y\n#\n\n\nh = h[:]\nx = x[:]\n???\n\n# Compute convolution via matrix multiplication\ny = H * x\n\nreturn H, y\n    \nend",
     "passed": true,
     "section_id": "section_0",
     "sources": {
      "student": "\nfunction convolution(h, x)\n#\n# Syntax:       H, y = convolution(h, x)\n#\n# Inputs:       h is a vector of length K\n#\n#               x is a vector of length N\n#\n# Outputs:      H is the (N + K - 1) x N convolution matrix defined by h\n#\n#               y is the vector of length (N + K - 1) containing the discrete\n#               convolution of h and x, but *not* computed via conv() calls.\n#\n# Description:  Computes the discrete convolution of the input vectors via\n#               matrix multiplication and returns both the matrix and y\n#\n\n\nh = h[:]\nx = x[:]\nK = length(h)\nN = length(x)\nH=zeros(N+K-1, N)\n\nfor i =1 : N\n    for j = 1 : K\n        H[i+j-1,i] = h[j]\n    end\nend\n    \n# Compute convolution via matrix multiplication\ny = H * x\n\nreturn H, y\n    \nend"
     }
    },
    "slideshow": {
     "slide_type": "slide"
    }
   },
   "outputs": [
    {
     "data": {
      "text/plain": [
       "convolution (generic function with 1 method)"
      ]
     },
     "execution_count": 8,
     "metadata": {},
     "output_type": "execute_result"
    }
   ],
   "source": [
    "\n",
    "function convolution(h, x)\n",
    "#\n",
    "# Syntax:       H, y = convolution(h, x)\n",
    "#\n",
    "# Inputs:       h is a vector of length K\n",
    "#\n",
    "#               x is a vector of length N\n",
    "#\n",
    "# Outputs:      H is the (N + K - 1) x N convolution matrix defined by h\n",
    "#\n",
    "#               y is the vector of length (N + K - 1) containing the discrete\n",
    "#               convolution of h and x, but *not* computed via conv() calls.\n",
    "#\n",
    "# Description:  Computes the discrete convolution of the input vectors via\n",
    "#               matrix multiplication and returns both the matrix and y\n",
    "#\n",
    "\n",
    "\n",
    "h = h[:]\n",
    "x = x[:]\n",
    "K = length(h)\n",
    "N = length(x)\n",
    "H=zeros(N+K-1, N)\n",
    "\n",
    "for i =1 : N\n",
    "    for j = 1 : K\n",
    "        H[i+j-1,i] = h[j]\n",
    "    end\n",
    "end\n",
    "    \n",
    "# Compute convolution via matrix multiplication\n",
    "y = H * x\n",
    "\n",
    "return H, y\n",
    "    \n",
    "end"
   ]
  },
  {
   "cell_type": "markdown",
   "metadata": {
    "deletable": false,
    "editable": false,
    "jbook": {
     "class": "TextCell",
     "current_ui_view": "student",
     "editable": true,
     "original_source": "In one-based-indexing languages such as `MATLAB` or `Julia`, we might have used the variation\n\n$$\ny[j] = \\sum_{k=-\\infty}^{\\infty} h[k] x[j-k+1] = \\sum_{k=-\\infty}^{\\infty} h[j-k+1]x[k] .\n$$\n\nThe equality $\\sum_{k=-\\infty}^{\\infty} h[k] x[j-k+1] = \\sum_{k=-\\infty}^{\\infty}  h[j-k+1]x[k]$,  the commutativity property of convolution, can be understood by realizing that either way $y[j]$ is a sum of all $x$'s and $h$'s whose indices add to $j+1$.\n\nSometimes this is written\n$$y[j] = \\sum_{\\alpha+\\beta=j+1} x[\\alpha] y[\\beta],$$\nto emphasize the symmetry.\nReturning to the problem at hand, we would like an $H$ that expresses matrix times vector multiplication:\n$$y_j = \\sum_k  H_{jk} x_k = \\sum_{k=1}^n h[j-k+1]x[k].$$\nThus it is easy to see that\n$$H_{jk} = h[j-k+1],$$\nif $1 \\le j-k+1 \\le m$ and 0 otherwise. The $H$ looks like this\n$$\nH = \n\\begin{bmatrix}\nh[1] & 0    &  0 & \\ldots & 0 \\\\\nh[2] & h[1] &  0 & \\ldots & 0\\\\\nh[3] & h[2] &  h[1] & \\ldots & 0\\\\\n\\vdots & \\vdots & \\vdots & \\vdots &  \\vdots \\\\\n0    & 0    & 0    & 0  & h[m] \n\\end{bmatrix}.\n$$\n\nA possible `Julia` implementation is\n```julia\nfunction convolution(h, x)\n#\n# Syntax:       H, y = convolution(h, x)\n#\n# Inputs:       h is a vector of length K\n#\n#               x is a vector of length N\n#\n# Outputs:      H is the (N + K - 1) x n convolution matrix defined by h\n#\n#               y is the vector of length (N + K - 1) containing the discrete\n#               convolution of h and x, but *not* computed via conv() calls.\n#\n# Description:  Computes the discrete convolution of the input vectors via\n#               matrix multiplication and returns both the matrix and y\n#\n\n    # Parse inputs\n    h = vec(h) # we're so nice...\n    x = vec(x)\n    K = length(h)\n    N = length(x)\n\n    # Construct convolution matrix\n    H = zeros(N + K - 1, N)\n    for n in 1:N\n        H[n:(n + K - 1), n] = h\n    end\n\n    # Compute convolution via matrix multiplication\n    y = H * x\n\n    return H, y\nend\n```\n\nIn `Julia`, we can construct $H$ elegantly using the ternary operator `a ? b : c` and array comprehensions as\n```julia\nH = [(1 <= j-k+1 <= m) ? h[j-k+1] : 0.0 for j=1:(m+n-1), k=1:n]\n```\nwhich reads as \"if $1 \\le j-k+1 \\le m$, set $H[j,k] = h[j-k+1]$, otherwise set $H[j,k] = 0$.\"\n\nThus an alternative *prettier* solution is\n```julia\nfunction convolution(h,x)\n    m, n = length(h), length(x)\n    H = [(1 <= j-k+1 <= m) ? h[j-k+1] : 0.0 for j=1:(m+n-1), k=1:n]\n    return H, H * x\nend\n```",
     "readonly": true,
     "section_id": "section_1",
     "sources": {
      "student": "In one-based-indexing languages such as `MATLAB` or `Julia`, we might have used the variation\n\n$$\ny[j] = \\sum_{k=-\\infty}^{\\infty} h[k] x[j-k+1] = \\sum_{k=-\\infty}^{\\infty} h[j-k+1]x[k] .\n$$\n\nThe equality $\\sum_{k=-\\infty}^{\\infty} h[k] x[j-k+1] = \\sum_{k=-\\infty}^{\\infty}  h[j-k+1]x[k]$,  the commutativity property of convolution, can be understood by realizing that either way $y[j]$ is a sum of all $x$'s and $h$'s whose indices add to $j+1$.\n\nSometimes this is written\n$$y[j] = \\sum_{\\alpha+\\beta=j+1} x[\\alpha] y[\\beta],$$\nto emphasize the symmetry.\nReturning to the problem at hand, we would like an $H$ that expresses matrix times vector multiplication:\n$$y_j = \\sum_k  H_{jk} x_k = \\sum_{k=1}^n h[j-k+1]x[k].$$\nThus it is easy to see that\n$$H_{jk} = h[j-k+1],$$\nif $1 \\le j-k+1 \\le m$ and 0 otherwise. The $H$ looks like this\n$$\nH = \n\\begin{bmatrix}\nh[1] & 0    &  0 & \\ldots & 0 \\\\\nh[2] & h[1] &  0 & \\ldots & 0\\\\\nh[3] & h[2] &  h[1] & \\ldots & 0\\\\\n\\vdots & \\vdots & \\vdots & \\vdots &  \\vdots \\\\\n0    & 0    & 0    & 0  & h[m] \n\\end{bmatrix}.\n$$\n\nA possible `Julia` implementation is\n```julia\nfunction convolution(h, x)\n#\n# Syntax:       H, y = convolution(h, x)\n#\n# Inputs:       h is a vector of length K\n#\n#               x is a vector of length N\n#\n# Outputs:      H is the (N + K - 1) x n convolution matrix defined by h\n#\n#               y is the vector of length (N + K - 1) containing the discrete\n#               convolution of h and x, but *not* computed via conv() calls.\n#\n# Description:  Computes the discrete convolution of the input vectors via\n#               matrix multiplication and returns both the matrix and y\n#\n\n    # Parse inputs\n    h = vec(h) # we're so nice...\n    x = vec(x)\n    K = length(h)\n    N = length(x)\n\n    # Construct convolution matrix\n    H = zeros(N + K - 1, N)\n    for n in 1:N\n        H[n:(n + K - 1), n] = h\n    end\n\n    # Compute convolution via matrix multiplication\n    y = H * x\n\n    return H, y\nend\n```\n\nIn `Julia`, we can construct $H$ elegantly using the ternary operator `a ? b : c` and array comprehensions as\n```julia\nH = [(1 <= j-k+1 <= m) ? h[j-k+1] : 0.0 for j=1:(m+n-1), k=1:n]\n```\nwhich reads as \"if $1 \\le j-k+1 \\le m$, set $H[j,k] = h[j-k+1]$, otherwise set $H[j,k] = 0$.\"\n\nThus an alternative *prettier* solution is\n```julia\nfunction convolution(h,x)\n    m, n = length(h), length(x)\n    H = [(1 <= j-k+1 <= m) ? h[j-k+1] : 0.0 for j=1:(m+n-1), k=1:n]\n    return H, H * x\nend\n```"
     }
    },
    "slideshow": {
     "slide_type": "slide"
    }
   },
   "source": [
    "In one-based-indexing languages such as `MATLAB` or `Julia`, we might have used the variation\n",
    "\n",
    "$$\n",
    "y[j] = \\sum_{k=-\\infty}^{\\infty} h[k] x[j-k+1] = \\sum_{k=-\\infty}^{\\infty} h[j-k+1]x[k] .\n",
    "$$\n",
    "\n",
    "The equality $\\sum_{k=-\\infty}^{\\infty} h[k] x[j-k+1] = \\sum_{k=-\\infty}^{\\infty}  h[j-k+1]x[k]$,  the commutativity property of convolution, can be understood by realizing that either way $y[j]$ is a sum of all $x$'s and $h$'s whose indices add to $j+1$.\n",
    "\n",
    "Sometimes this is written\n",
    "$$y[j] = \\sum_{\\alpha+\\beta=j+1} x[\\alpha] y[\\beta],$$\n",
    "to emphasize the symmetry.\n",
    "Returning to the problem at hand, we would like an $H$ that expresses matrix times vector multiplication:\n",
    "$$y_j = \\sum_k  H_{jk} x_k = \\sum_{k=1}^n h[j-k+1]x[k].$$\n",
    "Thus it is easy to see that\n",
    "$$H_{jk} = h[j-k+1],$$\n",
    "if $1 \\le j-k+1 \\le m$ and 0 otherwise. The $H$ looks like this\n",
    "$$\n",
    "H = \n",
    "\\begin{bmatrix}\n",
    "h[1] & 0    &  0 & \\ldots & 0 \\\\\n",
    "h[2] & h[1] &  0 & \\ldots & 0\\\\\n",
    "h[3] & h[2] &  h[1] & \\ldots & 0\\\\\n",
    "\\vdots & \\vdots & \\vdots & \\vdots &  \\vdots \\\\\n",
    "0    & 0    & 0    & 0  & h[m] \n",
    "\\end{bmatrix}.\n",
    "$$\n",
    "\n",
    "A possible `Julia` implementation is\n",
    "```julia\n",
    "function convolution(h, x)\n",
    "#\n",
    "# Syntax:       H, y = convolution(h, x)\n",
    "#\n",
    "# Inputs:       h is a vector of length K\n",
    "#\n",
    "#               x is a vector of length N\n",
    "#\n",
    "# Outputs:      H is the (N + K - 1) x n convolution matrix defined by h\n",
    "#\n",
    "#               y is the vector of length (N + K - 1) containing the discrete\n",
    "#               convolution of h and x, but *not* computed via conv() calls.\n",
    "#\n",
    "# Description:  Computes the discrete convolution of the input vectors via\n",
    "#               matrix multiplication and returns both the matrix and y\n",
    "#\n",
    "\n",
    "    # Parse inputs\n",
    "    h = vec(h) # we're so nice...\n",
    "    x = vec(x)\n",
    "    K = length(h)\n",
    "    N = length(x)\n",
    "\n",
    "    # Construct convolution matrix\n",
    "    H = zeros(N + K - 1, N)\n",
    "    for n in 1:N\n",
    "        H[n:(n + K - 1), n] = h\n",
    "    end\n",
    "\n",
    "    # Compute convolution via matrix multiplication\n",
    "    y = H * x\n",
    "\n",
    "    return H, y\n",
    "end\n",
    "```\n",
    "\n",
    "In `Julia`, we can construct $H$ elegantly using the ternary operator `a ? b : c` and array comprehensions as\n",
    "```julia\n",
    "H = [(1 <= j-k+1 <= m) ? h[j-k+1] : 0.0 for j=1:(m+n-1), k=1:n]\n",
    "```\n",
    "which reads as \"if $1 \\le j-k+1 \\le m$, set $H[j,k] = h[j-k+1]$, otherwise set $H[j,k] = 0$.\"\n",
    "\n",
    "Thus an alternative *prettier* solution is\n",
    "```julia\n",
    "function convolution(h,x)\n",
    "    m, n = length(h), length(x)\n",
    "    H = [(1 <= j-k+1 <= m) ? h[j-k+1] : 0.0 for j=1:(m+n-1), k=1:n]\n",
    "    return H, H * x\n",
    "end\n",
    "```"
   ]
  },
  {
   "cell_type": "code",
   "execution_count": 0,
   "metadata": {
    "deletable": false,
    "jbook": {
     "class": "CodeCell",
     "current_ui_view": "student",
     "editable": true,
     "original_source": "",
     "section_id": "section_1",
     "sources": {
      "student": ""
     }
    },
    "slideshow": {
     "slide_type": "slide"
    }
   },
   "outputs": [],
   "source": []
  }
 ],
 "metadata": {
  "jbook": {
   "bookmark_id": "5dd5c2a612024b00067e0665",
   "jbook_id": "5dcf6d5fa3e4ef7ccfb629f5",
   "sections": [
    {
     "name": "section_0"
    },
    {
     "name": "section_1"
    }
   ]
  },
  "kernelspec": {
   "display_name": "Julia 1.1.1",
   "language": "julia",
   "name": "julia-1.1"
  },
  "language_info": {
   "file_extension": ".jl",
   "mimetype": "application/julia",
   "name": "julia",
   "version": "1.1.1"
  },
  "toc": {
   "base_numbering": 1,
   "nav_menu": {},
   "number_sections": true,
   "sideBar": true,
   "skip_h1_title": false,
   "title_cell": "Table of Contents",
   "title_sidebar": "Contents",
   "toc_cell": true,
   "toc_position": {},
   "toc_section_display": "block",
   "toc_window_display": false
  }
 },
 "nbformat": 4,
 "nbformat_minor": 2
}
